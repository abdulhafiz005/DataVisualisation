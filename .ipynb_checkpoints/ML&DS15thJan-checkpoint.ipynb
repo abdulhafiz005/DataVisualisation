{
 "cells": [
  {
   "cell_type": "code",
   "execution_count": 1,
   "metadata": {},
   "outputs": [],
   "source": [
    "#a list of Dictionaries"
   ]
  },
  {
   "cell_type": "code",
   "execution_count": 2,
   "metadata": {},
   "outputs": [],
   "source": [
    "alistofdic = [\n",
    "    {'items': [1, 2, 3, 4, 5, 6], 'price': [11, 22, 33, 44]}, \n",
    "    {'students': [\"A\", \"B\", \"C\", \"D\"], 'rollNum': [124, 456, 127, 5678]},\n",
    "]"
   ]
  },
  {
   "cell_type": "code",
   "execution_count": 4,
   "metadata": {},
   "outputs": [
    {
     "data": {
      "text/plain": [
       "'C'"
      ]
     },
     "execution_count": 4,
     "metadata": {},
     "output_type": "execute_result"
    }
   ],
   "source": [
    "#accessing elements\n",
    "alistofdic[1]['students'][2]"
   ]
  },
  {
   "cell_type": "code",
   "execution_count": 6,
   "metadata": {},
   "outputs": [
    {
     "name": "stdout",
     "output_type": "stream",
     "text": [
      "124\n",
      "456\n",
      "127\n",
      "5678\n"
     ]
    }
   ],
   "source": [
    "for mem in range(len(alistofdic)):\n",
    "    if 'rollNum' in alistofdic[mem]:\n",
    "        for rn in alistofdic[mem]['rollNum']:\n",
    "            print(rn)"
   ]
  },
  {
   "cell_type": "code",
   "execution_count": 7,
   "metadata": {},
   "outputs": [
    {
     "name": "stdout",
     "output_type": "stream",
     "text": [
      "{'color': 'green', 'points': 5}\n",
      "{'color': 'yellow', 'points': 10}\n",
      "{'color': 'red', 'points': 15}\n"
     ]
    }
   ],
   "source": [
    "alien_0 = {'color': 'green', 'points': 5}\n",
    "alien_1 = {'color': 'yellow', 'points': 10}\n",
    "alien_2 = {'color': 'red', 'points': 15}\n",
    "\n",
    "aliens = [alien_0, alien_1, alien_2]\n",
    "\n",
    "for alien in aliens:\n",
    "    print(alien)"
   ]
  },
  {
   "cell_type": "code",
   "execution_count": 8,
   "metadata": {},
   "outputs": [],
   "source": [
    "aliens = []\n",
    "\n",
    "#make 30 green aliens.\n",
    "for alien_number in range(30):\n",
    "    new_alien = {'color': 'green', 'points': 5, 'speed': 'slow'}\n",
    "    aliens.append(new_alien)"
   ]
  },
  {
   "cell_type": "code",
   "execution_count": 9,
   "metadata": {},
   "outputs": [
    {
     "name": "stdout",
     "output_type": "stream",
     "text": [
      "{'color': 'green', 'points': 5, 'speed': 'slow'}\n",
      "{'color': 'green', 'points': 5, 'speed': 'slow'}\n",
      "{'color': 'green', 'points': 5, 'speed': 'slow'}\n",
      "{'color': 'green', 'points': 5, 'speed': 'slow'}\n",
      "{'color': 'green', 'points': 5, 'speed': 'slow'}\n",
      "...\n"
     ]
    }
   ],
   "source": [
    "#show the first 5 aliens\n",
    "for alien in aliens[:5]:\n",
    "    print(alien)\n",
    "print(\"...\")"
   ]
  },
  {
   "cell_type": "code",
   "execution_count": 10,
   "metadata": {},
   "outputs": [
    {
     "name": "stdout",
     "output_type": "stream",
     "text": [
      "Total number of aliens: 30\n"
     ]
    }
   ],
   "source": [
    "#show how many aliens have been created.\n",
    "print(\"Total number of aliens: \" + str(len(aliens)))"
   ]
  },
  {
   "cell_type": "code",
   "execution_count": 12,
   "metadata": {},
   "outputs": [
    {
     "name": "stdout",
     "output_type": "stream",
     "text": [
      "{'color': 'yellow', 'points': 10, 'speed': 'medium'}\n",
      "{'color': 'yellow', 'points': 10, 'speed': 'medium'}\n",
      "{'color': 'yellow', 'points': 10, 'speed': 'medium'}\n",
      "{'color': 'green', 'points': 5, 'speed': 'slow'}\n",
      "{'color': 'green', 'points': 5, 'speed': 'slow'}\n",
      "...\n"
     ]
    }
   ],
   "source": [
    "for alien in aliens[:3]:\n",
    "    if alien[\"color\"] == \"green\":\n",
    "        alien['color'] = 'yellow'\n",
    "        alien['speed'] = 'medium'\n",
    "        alien['points'] = 10\n",
    "        \n",
    "for alien in aliens[:5]:\n",
    "    print(alien)\n",
    "print(\"...\")"
   ]
  },
  {
   "cell_type": "code",
   "execution_count": 13,
   "metadata": {},
   "outputs": [
    {
     "name": "stdout",
     "output_type": "stream",
     "text": [
      "{'color': 'red', 'points': 15, 'speed': 'fast'}\n",
      "{'color': 'red', 'points': 15, 'speed': 'fast'}\n",
      "{'color': 'red', 'points': 15, 'speed': 'fast'}\n",
      "{'color': 'green', 'points': 5, 'speed': 'slow'}\n",
      "{'color': 'green', 'points': 5, 'speed': 'slow'}\n",
      "...\n"
     ]
    }
   ],
   "source": [
    "for alien in aliens[0:3]:\n",
    "    if alien[\"color\"] == \"green\":\n",
    "        alien['color'] = 'yellow'\n",
    "        alien['speed'] = 'medium'\n",
    "        alien['points'] = 10\n",
    "    elif alien[\"color\"] == \"yellow\":\n",
    "        alien[\"color\"] = \"red\"\n",
    "        alien[\"speed\"] = \"fast\"\n",
    "        alien[\"points\"] = 15\n",
    "        \n",
    "for alien in aliens[:5]:\n",
    "    print(alien)\n",
    "print(\"...\")"
   ]
  },
  {
   "cell_type": "code",
   "execution_count": 14,
   "metadata": {},
   "outputs": [],
   "source": [
    "# a dictionary of lists"
   ]
  },
  {
   "cell_type": "code",
   "execution_count": 15,
   "metadata": {},
   "outputs": [],
   "source": [
    "#store information about a pizza being ordered.\n",
    "pizza = {\n",
    "    'crust': 'thick',\n",
    "    'toppings': ['mushrooms', 'extra cheese'],\n",
    "}"
   ]
  },
  {
   "cell_type": "code",
   "execution_count": 18,
   "metadata": {},
   "outputs": [
    {
     "name": "stdout",
     "output_type": "stream",
     "text": [
      "you ordered a thick crust pizza.\n",
      "mushrooms\n",
      "extra cheese\n"
     ]
    }
   ],
   "source": [
    "print(\"you ordered a\", pizza['crust'], \"crust pizza.\")\n",
    "\n",
    "for p in pizza[\"toppings\"]:\n",
    "    print(p)"
   ]
  },
  {
   "cell_type": "code",
   "execution_count": 19,
   "metadata": {},
   "outputs": [],
   "source": [
    "favorite_languages = {\n",
    "    'jack': [\"python\", \"java\"],\n",
    "    'sparrow': ['c'],\n",
    "    'edward' : ['ruby', 'go'],\n",
    "    'phil': ['php', 'haskell']\n",
    "}"
   ]
  },
  {
   "cell_type": "code",
   "execution_count": 21,
   "metadata": {},
   "outputs": [
    {
     "name": "stdout",
     "output_type": "stream",
     "text": [
      "\n",
      "Jack's faverote languages are:\n",
      ".python\n",
      ".java\n",
      "\n",
      "Sparrow's faverote languages are:\n",
      ".c\n",
      "\n",
      "Edward's faverote languages are:\n",
      ".ruby\n",
      ".go\n",
      "\n",
      "Phil's faverote languages are:\n",
      ".php\n",
      ".haskell\n"
     ]
    }
   ],
   "source": [
    "for name, languages in favorite_languages.items():\n",
    "    print('\\n'+name.title()+'\\'s faverote languages are:')\n",
    "    for language in languages:\n",
    "        print(\".\"+language)"
   ]
  },
  {
   "cell_type": "code",
   "execution_count": 22,
   "metadata": {},
   "outputs": [],
   "source": [
    "# a dictionary in a dictionary"
   ]
  },
  {
   "cell_type": "code",
   "execution_count": 23,
   "metadata": {},
   "outputs": [],
   "source": [
    "users = {\n",
    "    'jack':{\n",
    "        'first': 'jack',\n",
    "        'last': 'sparrow',\n",
    "        'location': 'paris'\n",
    "    },\n",
    "    'thomas':{\n",
    "        'first': 'thomas',\n",
    "        'last': 'andrison',\n",
    "        'location': 'london'\n",
    "    }\n",
    "}"
   ]
  },
  {
   "cell_type": "code",
   "execution_count": 24,
   "metadata": {},
   "outputs": [
    {
     "name": "stdout",
     "output_type": "stream",
     "text": [
      "\n",
      "Username: jack\n",
      "\n",
      "Fullname: Jack Sparrow\n",
      "location: Paris\n",
      "\n",
      "Username: thomas\n",
      "\n",
      "Fullname: Thomas Andrison\n",
      "location: London\n"
     ]
    }
   ],
   "source": [
    "for username, user_info in users.items():\n",
    "    print(\"\\nUsername: \"+ username)\n",
    "    full_name = user_info['first'] + \" \" + user_info['last']\n",
    "    location = user_info['location']\n",
    "    print(\"\\nFullname: \" + full_name.title())\n",
    "    print(\"location: \"+ location.title())"
   ]
  },
  {
   "cell_type": "code",
   "execution_count": 26,
   "metadata": {},
   "outputs": [],
   "source": [
    "dicofdic = {\n",
    "    'saylani':{\n",
    "        'smit': ['web', 'ds', 'ccns', 'ai'],\n",
    "        'health': ['opd', 'ot'],\n",
    "    },\n",
    "    'university':{\n",
    "        'cs':['1st', '2nd', '3rd', '4th'],\n",
    "        'admin':['fees', 'timetable', 'exams']\n",
    "    },\n",
    "}"
   ]
  },
  {
   "cell_type": "code",
   "execution_count": 27,
   "metadata": {},
   "outputs": [
    {
     "data": {
      "text/plain": [
       "True"
      ]
     },
     "execution_count": 27,
     "metadata": {},
     "output_type": "execute_result"
    }
   ],
   "source": [
    "'smit' in dicofdic['saylani']"
   ]
  },
  {
   "cell_type": "code",
   "execution_count": 28,
   "metadata": {},
   "outputs": [
    {
     "name": "stdout",
     "output_type": "stream",
     "text": [
      "True\n"
     ]
    }
   ],
   "source": [
    "for pk, pv in dicofdic.items():\n",
    "    if pk == \"university\":\n",
    "        for uk, uv in dicofdic[pk].items():\n",
    "            if uk == 'admin':\n",
    "                print('exams' in uv)"
   ]
  },
  {
   "cell_type": "code",
   "execution_count": 29,
   "metadata": {},
   "outputs": [
    {
     "name": "stdout",
     "output_type": "stream",
     "text": [
      "True\n"
     ]
    }
   ],
   "source": [
    "for v in dicofdic['university']['admin']:\n",
    "    if v == 'exams':\n",
    "        print(True)"
   ]
  },
  {
   "cell_type": "code",
   "execution_count": 32,
   "metadata": {},
   "outputs": [
    {
     "name": "stdout",
     "output_type": "stream",
     "text": [
      "True\n"
     ]
    }
   ],
   "source": [
    "for pk, pv in dicofdic.items():\n",
    "    if pk == \"university\":\n",
    "        for uk, uv in pv.items():\n",
    "            if uk == 'admin':\n",
    "                print('exams' in uv)"
   ]
  },
  {
   "cell_type": "code",
   "execution_count": 33,
   "metadata": {},
   "outputs": [],
   "source": [
    "#while loops"
   ]
  },
  {
   "cell_type": "code",
   "execution_count": 34,
   "metadata": {},
   "outputs": [
    {
     "name": "stdout",
     "output_type": "stream",
     "text": [
      "Enter Fav lang: a\n",
      "Enter Fav lang: b\n",
      "Enter Fav lang: c\n",
      "Enter Fav lang: d\n",
      "['a', 'b', 'c', 'd']\n"
     ]
    }
   ],
   "source": [
    "fav_languages = []\n",
    "for lang in range(4):\n",
    "    fav_lang = input(\"Enter Fav lang: \")\n",
    "    fav_languages.append(fav_lang)\n",
    "print(fav_languages)"
   ]
  },
  {
   "cell_type": "code",
   "execution_count": null,
   "metadata": {},
   "outputs": [],
   "source": [
    "fav_languages = []\n",
    "flag = True\n",
    "while(flag):\n",
    "    fav_lang = input(\"Enter fav lang or type 'quit' to exit: \")\n",
    "    if fav_lang == 'quit':\n",
    "        flag= False\n",
    "    else:\n",
    "        fav_languages.append(fav_lang)"
   ]
  },
  {
   "cell_type": "code",
   "execution_count": null,
   "metadata": {},
   "outputs": [],
   "source": []
  }
 ],
 "metadata": {
  "kernelspec": {
   "display_name": "Python 3",
   "language": "python",
   "name": "python3"
  },
  "language_info": {
   "codemirror_mode": {
    "name": "ipython",
    "version": 3
   },
   "file_extension": ".py",
   "mimetype": "text/x-python",
   "name": "python",
   "nbconvert_exporter": "python",
   "pygments_lexer": "ipython3",
   "version": "3.8.5"
  }
 },
 "nbformat": 4,
 "nbformat_minor": 4
}
