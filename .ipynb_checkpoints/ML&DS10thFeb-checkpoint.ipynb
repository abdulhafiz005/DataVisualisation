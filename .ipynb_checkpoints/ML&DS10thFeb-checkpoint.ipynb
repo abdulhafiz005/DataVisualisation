{
 "cells": [
  {
   "cell_type": "markdown",
   "metadata": {},
   "source": [
    "# Importing class"
   ]
  },
  {
   "cell_type": "code",
   "execution_count": 5,
   "metadata": {},
   "outputs": [],
   "source": [
    "from car import Car"
   ]
  },
  {
   "cell_type": "code",
   "execution_count": 6,
   "metadata": {},
   "outputs": [],
   "source": [
    "my_new_car = Car('audi', 'a4', 2016)"
   ]
  },
  {
   "cell_type": "code",
   "execution_count": 7,
   "metadata": {},
   "outputs": [
    {
     "name": "stdout",
     "output_type": "stream",
     "text": [
      "2016 Audi A4\n",
      "This car has 23 miles on it.\n"
     ]
    }
   ],
   "source": [
    "print(my_new_car.get_descriptive_name())\n",
    "my_new_car.odometer_reading = 23\n",
    "my_new_car.read_odometer()"
   ]
  },
  {
   "cell_type": "markdown",
   "metadata": {},
   "source": [
    "# Files and Exceptions\n",
    "- read ('r')\n",
    "- write ('w')\n",
    "- append ('a')\n",
    "- write+ ('w+')\n",
    "- read+ ('r+')\n",
    "- binary ('b')"
   ]
  },
  {
   "cell_type": "code",
   "execution_count": 9,
   "metadata": {},
   "outputs": [
    {
     "name": "stdout",
     "output_type": "stream",
     "text": [
      "hola!.\n"
     ]
    }
   ],
   "source": [
    "with open(\"exceptionTextFile.txt\") as f:\n",
    "    content = f.read()\n",
    "print(content)"
   ]
  },
  {
   "cell_type": "code",
   "execution_count": 11,
   "metadata": {},
   "outputs": [
    {
     "name": "stdout",
     "output_type": "stream",
     "text": [
      "There is no such file in the directory\n"
     ]
    }
   ],
   "source": [
    "try:\n",
    "    with open(\"exceptionTestFile.txt\") as f:\n",
    "        content = f.read()\n",
    "        print(cont)\n",
    "except FileNotFoundError:\n",
    "    print(\"There is no such file in the directory\")"
   ]
  },
  {
   "cell_type": "code",
   "execution_count": 14,
   "metadata": {},
   "outputs": [
    {
     "name": "stdout",
     "output_type": "stream",
     "text": [
      "['file one line one.\\n', 'file one line two.\\n', 'file one line three.\\n', 'file one line four.\\n', 'file one line five.\\n', 'file one line six.\\n', 'file one line seven.\\n', 'file one line eight.\\n', 'file one line nine.']\n"
     ]
    }
   ],
   "source": [
    "try:\n",
    "    with open(\"exceptionTextFile.txt\") as f:\n",
    "        content = f.readlines()\n",
    "        print(content)\n",
    "except FileNotFoundError:\n",
    "    print(\"There is no such file in the directory\")"
   ]
  },
  {
   "cell_type": "code",
   "execution_count": 24,
   "metadata": {},
   "outputs": [
    {
     "name": "stdout",
     "output_type": "stream",
     "text": [
      "file one line one.\n",
      "\n"
     ]
    }
   ],
   "source": [
    "try:\n",
    "    with open(\"exceptionTextFile.txt\") as f:\n",
    "        content = f.readline()\n",
    "        print(content)\n",
    "except FileNotFoundError:\n",
    "    print(\"There is no such file in the directory\")"
   ]
  },
  {
   "cell_type": "code",
   "execution_count": 20,
   "metadata": {},
   "outputs": [
    {
     "name": "stdout",
     "output_type": "stream",
     "text": [
      "file one line one.\n",
      "file one line two.\n",
      "file one line three.\n",
      "file one line four.\n",
      "file one line five.\n",
      "file one line six.\n",
      "file one line seven.\n",
      "file one line eight.\n",
      "file one line nine."
     ]
    }
   ],
   "source": [
    "try:\n",
    "    with open(\"exceptionTextFile.txt\") as f:\n",
    "        for line in f.readlines():\n",
    "            print(line, end=\"\")\n",
    "except FileNotFoundError:\n",
    "    print(\"There is no such file in the directory\")"
   ]
  },
  {
   "cell_type": "code",
   "execution_count": 25,
   "metadata": {},
   "outputs": [
    {
     "name": "stdout",
     "output_type": "stream",
     "text": [
      "file one line one.\n",
      "file one line two.\n",
      "file one line three.\n",
      "file one line four.\n",
      "file one line five.\n",
      "file one line six.\n",
      "file one line seven.\n",
      "file one line eight.\n",
      "file one line nine.\n",
      "file one line one.\n",
      "\n",
      "['ne line one.\\n', 'file one line two.\\n', 'file one line three.\\n', 'file one line four.\\n', 'file one line five.\\n', 'file one line six.\\n', 'file one line seven.\\n', 'file one line eight.\\n', 'file one line nine.']\n"
     ]
    }
   ],
   "source": [
    "try:\n",
    "    with open(\"exceptionTextFile.txt\") as f:\n",
    "        content = f.read()\n",
    "        f.seek(0)\n",
    "        content2 = f.readline()\n",
    "        f.seek(6)\n",
    "        content3 = f.readlines()\n",
    "        print(content)\n",
    "        print(content2)\n",
    "        print(content3)\n",
    "except FileNotFoundError:\n",
    "        print(\"There is no such file in the directory\")"
   ]
  },
  {
   "cell_type": "code",
   "execution_count": 27,
   "metadata": {},
   "outputs": [],
   "source": [
    "with open(\"exceptionTextFile.txt\", \"w\") as w:\n",
    "    w.write(\"Salam\")\n",
    "    w.write(\"Salam\")\n",
    "    w.write(\"Salam\")\n",
    "    w.write(\"Salam\")\n",
    "    w.write(\"Salam\")\n",
    "    w.write(\"Salam\")"
   ]
  },
  {
   "cell_type": "code",
   "execution_count": 31,
   "metadata": {},
   "outputs": [
    {
     "name": "stdout",
     "output_type": "stream",
     "text": [
      "hola! kese ho pa g?\n"
     ]
    }
   ],
   "source": [
    "with open(\"exceptionTextFile.txt\", \"w+\") as obj:\n",
    "    obj.write(\"hola! kese ho pa g?\")\n",
    "    obj.seek(0)\n",
    "    c = obj.read()\n",
    "    print(c)"
   ]
  },
  {
   "cell_type": "code",
   "execution_count": 32,
   "metadata": {},
   "outputs": [
    {
     "ename": "FileNotFoundError",
     "evalue": "[Errno 2] No such file or directory: 'exceptionTextFile1.txt'",
     "output_type": "error",
     "traceback": [
      "\u001b[1;31m---------------------------------------------------------------------------\u001b[0m",
      "\u001b[1;31mFileNotFoundError\u001b[0m                         Traceback (most recent call last)",
      "\u001b[1;32m<ipython-input-32-c3b184b0d233>\u001b[0m in \u001b[0;36m<module>\u001b[1;34m\u001b[0m\n\u001b[1;32m----> 1\u001b[1;33m \u001b[1;32mwith\u001b[0m \u001b[0mopen\u001b[0m\u001b[1;33m(\u001b[0m\u001b[1;34m\"exceptionTextFile1.txt\"\u001b[0m\u001b[1;33m,\u001b[0m \u001b[1;34m\"r+\"\u001b[0m\u001b[1;33m)\u001b[0m \u001b[1;32mas\u001b[0m \u001b[0mobj\u001b[0m\u001b[1;33m:\u001b[0m\u001b[1;33m\u001b[0m\u001b[1;33m\u001b[0m\u001b[0m\n\u001b[0m\u001b[0;32m      2\u001b[0m     \u001b[0mobj\u001b[0m\u001b[1;33m.\u001b[0m\u001b[0mwrite\u001b[0m\u001b[1;33m(\u001b[0m\u001b[1;34m\"hola! kese ho pa g?\"\u001b[0m\u001b[1;33m)\u001b[0m\u001b[1;33m\u001b[0m\u001b[1;33m\u001b[0m\u001b[0m\n\u001b[0;32m      3\u001b[0m     \u001b[0mobj\u001b[0m\u001b[1;33m.\u001b[0m\u001b[0mseek\u001b[0m\u001b[1;33m(\u001b[0m\u001b[1;36m0\u001b[0m\u001b[1;33m)\u001b[0m\u001b[1;33m\u001b[0m\u001b[1;33m\u001b[0m\u001b[0m\n\u001b[0;32m      4\u001b[0m     \u001b[0mc\u001b[0m \u001b[1;33m=\u001b[0m \u001b[0mobj\u001b[0m\u001b[1;33m.\u001b[0m\u001b[0mread\u001b[0m\u001b[1;33m(\u001b[0m\u001b[1;33m)\u001b[0m\u001b[1;33m\u001b[0m\u001b[1;33m\u001b[0m\u001b[0m\n\u001b[0;32m      5\u001b[0m     \u001b[0mprint\u001b[0m\u001b[1;33m(\u001b[0m\u001b[0mc\u001b[0m\u001b[1;33m)\u001b[0m\u001b[1;33m\u001b[0m\u001b[1;33m\u001b[0m\u001b[0m\n",
      "\u001b[1;31mFileNotFoundError\u001b[0m: [Errno 2] No such file or directory: 'exceptionTextFile1.txt'"
     ]
    }
   ],
   "source": [
    "with open(\"exceptionTextFile1.txt\", \"r+\") as obj:\n",
    "    obj.write(\"hola! kese ho pa g?\")\n",
    "    obj.seek(0)\n",
    "    c = obj.read()\n",
    "    print(c)"
   ]
  },
  {
   "cell_type": "code",
   "execution_count": 33,
   "metadata": {},
   "outputs": [
    {
     "name": "stdout",
     "output_type": "stream",
     "text": [
      "hola! kese ho pa g?\n"
     ]
    }
   ],
   "source": [
    "with open(\"exceptionTextFile.txt\", \"r+\") as obj:\n",
    "    obj.write(\"hola! kese ho pa g?\")\n",
    "    obj.seek(0)\n",
    "    c = obj.read()\n",
    "    print(c)"
   ]
  },
  {
   "cell_type": "code",
   "execution_count": 36,
   "metadata": {},
   "outputs": [],
   "source": [
    "with open(\"exceptionTextFile.txt\", \"a\") as obj:\n",
    "    obj.write(\"\\nq bataun.\")"
   ]
  },
  {
   "cell_type": "code",
   "execution_count": 38,
   "metadata": {},
   "outputs": [
    {
     "name": "stdout",
     "output_type": "stream",
     "text": [
      "b'hola! kese ho pa g?\\r\\nq bataun.\\r\\nq bataun.\\r\\nq bataun.'\n"
     ]
    }
   ],
   "source": [
    "with open(\"exceptionTextFile.txt\", \"rb\") as obj:\n",
    "    print(obj.read())"
   ]
  },
  {
   "cell_type": "code",
   "execution_count": 39,
   "metadata": {},
   "outputs": [
    {
     "name": "stdout",
     "output_type": "stream",
     "text": [
      "Enter guest name: jack sparrow\n"
     ]
    }
   ],
   "source": [
    "name = input(\"Enter guest name: \")\n",
    "with open(\"guest.txt\", \"w\") as f:\n",
    "    f.write(name)"
   ]
  },
  {
   "cell_type": "code",
   "execution_count": 43,
   "metadata": {},
   "outputs": [
    {
     "name": "stdout",
     "output_type": "stream",
     "text": [
      "Enter guest names type 'q' to quit: jack\n",
      "Enter guest names type 'q' to quit: sparrow\n",
      "Enter guest names type 'q' to quit: persy\n",
      "Enter guest names type 'q' to quit: jackson\n",
      "Enter guest names type 'q' to quit: thomas\n",
      "Enter guest names type 'q' to quit: andrison\n",
      "Enter guest names type 'q' to quit: gen\n",
      "Enter guest names type 'q' to quit: lucy\n",
      "Enter guest names type 'q' to quit: carter\n",
      "Enter guest names type 'q' to quit: q\n"
     ]
    }
   ],
   "source": [
    "with open(\"guests.txt\", \"a\") as f:\n",
    "    sentinal = True\n",
    "    while(sentinal):\n",
    "        ans = input(\"Enter guest names type 'q' to quit: \")\n",
    "        if ans.lower() != 'q':\n",
    "            f.write(ans+\"\\n\")\n",
    "        else:\n",
    "            sentinal = False"
   ]
  },
  {
   "cell_type": "code",
   "execution_count": null,
   "metadata": {},
   "outputs": [],
   "source": []
  }
 ],
 "metadata": {
  "kernelspec": {
   "display_name": "Python 3",
   "language": "python",
   "name": "python3"
  },
  "language_info": {
   "codemirror_mode": {
    "name": "ipython",
    "version": 3
   },
   "file_extension": ".py",
   "mimetype": "text/x-python",
   "name": "python",
   "nbconvert_exporter": "python",
   "pygments_lexer": "ipython3",
   "version": "3.8.5"
  }
 },
 "nbformat": 4,
 "nbformat_minor": 4
}
