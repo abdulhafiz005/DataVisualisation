{
 "cells": [
  {
   "cell_type": "markdown",
   "metadata": {},
   "source": [
    "# Classes and object"
   ]
  },
  {
   "cell_type": "code",
   "execution_count": 6,
   "metadata": {},
   "outputs": [],
   "source": [
    "class Computer():\n",
    "    pass"
   ]
  },
  {
   "cell_type": "code",
   "execution_count": 7,
   "metadata": {},
   "outputs": [],
   "source": [
    "class Computer():\n",
    "    def __init__(self): #constructor/initilizer\n",
    "        self.manufacturer = \"Lenovo\" #properties of object\n",
    "        self.model = \"kjsdfkjd78\" #properties of object"
   ]
  },
  {
   "cell_type": "code",
   "execution_count": 8,
   "metadata": {},
   "outputs": [],
   "source": [
    "class Computer():\n",
    "    def __init__(self): #constructor/initilizer\n",
    "        self.manufacturer = \"Lenovo\" #properties of object\n",
    "        self.model = \"ideapad330S\" #properties of object\n",
    "        print(\"I am constructor. Your Object is created\")\n",
    "        \n",
    "    #behaviours\n",
    "    def showConfiguration(self): #object is needed to call this method\n",
    "        print(\"i5\", \"16GB\", \"1TB\") #instance/object method"
   ]
  },
  {
   "cell_type": "code",
   "execution_count": 9,
   "metadata": {},
   "outputs": [
    {
     "name": "stdout",
     "output_type": "stream",
     "text": [
      "I am constructor. Your Object is created\n"
     ]
    }
   ],
   "source": [
    "myPc = Computer()"
   ]
  },
  {
   "cell_type": "code",
   "execution_count": 10,
   "metadata": {},
   "outputs": [
    {
     "data": {
      "text/plain": [
       "'Lenovo'"
      ]
     },
     "execution_count": 10,
     "metadata": {},
     "output_type": "execute_result"
    }
   ],
   "source": [
    "myPc.manufacturer"
   ]
  },
  {
   "cell_type": "code",
   "execution_count": 11,
   "metadata": {},
   "outputs": [
    {
     "data": {
      "text/plain": [
       "'ideapad330S'"
      ]
     },
     "execution_count": 11,
     "metadata": {},
     "output_type": "execute_result"
    }
   ],
   "source": [
    "myPc.model"
   ]
  },
  {
   "cell_type": "code",
   "execution_count": 12,
   "metadata": {},
   "outputs": [
    {
     "name": "stdout",
     "output_type": "stream",
     "text": [
      "i5 16GB 1TB\n"
     ]
    }
   ],
   "source": [
    "myPc.showConfiguration()"
   ]
  },
  {
   "cell_type": "code",
   "execution_count": 13,
   "metadata": {},
   "outputs": [
    {
     "name": "stdout",
     "output_type": "stream",
     "text": [
      "I am constructor. Your Object is created\n"
     ]
    }
   ],
   "source": [
    "myBroPc = Computer()"
   ]
  },
  {
   "cell_type": "code",
   "execution_count": 14,
   "metadata": {},
   "outputs": [
    {
     "data": {
      "text/plain": [
       "'Lenovo'"
      ]
     },
     "execution_count": 14,
     "metadata": {},
     "output_type": "execute_result"
    }
   ],
   "source": [
    "myBroPc.manufacturer"
   ]
  },
  {
   "cell_type": "code",
   "execution_count": 15,
   "metadata": {},
   "outputs": [
    {
     "data": {
      "text/plain": [
       "'ideapad330S'"
      ]
     },
     "execution_count": 15,
     "metadata": {},
     "output_type": "execute_result"
    }
   ],
   "source": [
    "myBroPc.model"
   ]
  },
  {
   "cell_type": "code",
   "execution_count": 16,
   "metadata": {},
   "outputs": [
    {
     "name": "stdout",
     "output_type": "stream",
     "text": [
      "i5 16GB 1TB\n"
     ]
    }
   ],
   "source": [
    "myBroPc.showConfiguration()"
   ]
  },
  {
   "cell_type": "code",
   "execution_count": 23,
   "metadata": {},
   "outputs": [],
   "source": [
    "class ModernComputer():\n",
    "    def __init__(self, processor, ram, drive): #constructor/initilizer\n",
    "        #attributes\n",
    "        self.processor = processor\n",
    "        self.ram = ram\n",
    "        self.drive = drive\n",
    "        self.manufacturer = \"Lenovo\" #properties of object\n",
    "        self.model = \"ideapad330S\" #properties of object\n",
    "        print(\"I am constructor. Your Object is created\")\n",
    "        \n",
    "    #behaviours\n",
    "    def showConfiguration(self): #object is needed to call this method\n",
    "        print(f\"{self.processor} {self.ram} {self.drive}\") #instance/object method"
   ]
  },
  {
   "cell_type": "code",
   "execution_count": 28,
   "metadata": {},
   "outputs": [
    {
     "name": "stdout",
     "output_type": "stream",
     "text": [
      "I am constructor. Your Object is created\n"
     ]
    }
   ],
   "source": [
    "myNewPc = ModernComputer(\"i9\", \"64GB\", \"2PB SSD\")"
   ]
  },
  {
   "cell_type": "code",
   "execution_count": 29,
   "metadata": {},
   "outputs": [
    {
     "name": "stdout",
     "output_type": "stream",
     "text": [
      "i9 64GB 2PB SSD\n"
     ]
    }
   ],
   "source": [
    "myNewPc.showConfiguration()"
   ]
  },
  {
   "cell_type": "code",
   "execution_count": null,
   "metadata": {},
   "outputs": [],
   "source": []
  }
 ],
 "metadata": {
  "kernelspec": {
   "display_name": "Python 3",
   "language": "python",
   "name": "python3"
  },
  "language_info": {
   "codemirror_mode": {
    "name": "ipython",
    "version": 3
   },
   "file_extension": ".py",
   "mimetype": "text/x-python",
   "name": "python",
   "nbconvert_exporter": "python",
   "pygments_lexer": "ipython3",
   "version": "3.8.5"
  }
 },
 "nbformat": 4,
 "nbformat_minor": 4
}
