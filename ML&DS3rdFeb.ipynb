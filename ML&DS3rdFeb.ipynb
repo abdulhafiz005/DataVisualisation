{
 "cells": [
  {
   "cell_type": "markdown",
   "metadata": {},
   "source": [
    "# Method Overriding"
   ]
  },
  {
   "cell_type": "code",
   "execution_count": 2,
   "metadata": {},
   "outputs": [],
   "source": [
    "class Car():\n",
    "    def fill_gas_tank(self):\n",
    "        print(\"Gas has been field.\")"
   ]
  },
  {
   "cell_type": "code",
   "execution_count": 36,
   "metadata": {},
   "outputs": [],
   "source": [
    "class Battery():\n",
    "    def __init__(self, size):\n",
    "        self.size = size\n",
    "        \n",
    "    def describe_battery(self):\n",
    "        print(self.size)"
   ]
  },
  {
   "cell_type": "code",
   "execution_count": 41,
   "metadata": {},
   "outputs": [],
   "source": [
    "class ElectricCar(Car):\n",
    "    def __init__(self):\n",
    "        self.battery = Battery(size = 70)\n",
    "    def fill_gas_tank(self):\n",
    "        print(\"Electric car does not need gas tank\")"
   ]
  },
  {
   "cell_type": "code",
   "execution_count": 42,
   "metadata": {},
   "outputs": [],
   "source": [
    "myCar = ElectricCar()"
   ]
  },
  {
   "cell_type": "code",
   "execution_count": 43,
   "metadata": {},
   "outputs": [
    {
     "name": "stdout",
     "output_type": "stream",
     "text": [
      "Electric car does not need gas tank\n"
     ]
    }
   ],
   "source": [
    "myCar.fill_gas_tank()"
   ]
  },
  {
   "cell_type": "code",
   "execution_count": 6,
   "metadata": {},
   "outputs": [],
   "source": [
    "class Resturant():\n",
    "    def __init__(self, resturant_name, cuisine_type):\n",
    "        self.resturant_name = resturant_name\n",
    "        self.cusine_type = cuisine_type\n",
    "    def describe_resturant(self):\n",
    "        print(f\"{self.resturant_name} is open.\")"
   ]
  },
  {
   "cell_type": "code",
   "execution_count": 7,
   "metadata": {},
   "outputs": [],
   "source": [
    "resturant = Resturant(\"Have a bite\", \"Fast food\")"
   ]
  },
  {
   "cell_type": "code",
   "execution_count": 8,
   "metadata": {},
   "outputs": [
    {
     "data": {
      "text/plain": [
       "'Have a bite'"
      ]
     },
     "execution_count": 8,
     "metadata": {},
     "output_type": "execute_result"
    }
   ],
   "source": [
    "resturant.resturant_name"
   ]
  },
  {
   "cell_type": "code",
   "execution_count": 9,
   "metadata": {},
   "outputs": [
    {
     "data": {
      "text/plain": [
       "'Fast food'"
      ]
     },
     "execution_count": 9,
     "metadata": {},
     "output_type": "execute_result"
    }
   ],
   "source": [
    "resturant.cusine_type"
   ]
  },
  {
   "cell_type": "code",
   "execution_count": 10,
   "metadata": {},
   "outputs": [
    {
     "name": "stdout",
     "output_type": "stream",
     "text": [
      "Have a bite is open.\n"
     ]
    }
   ],
   "source": [
    "resturant.describe_resturant()"
   ]
  },
  {
   "cell_type": "code",
   "execution_count": 11,
   "metadata": {},
   "outputs": [],
   "source": [
    "kbc = Resturant(\"KBC\", \"Fast Food\")"
   ]
  },
  {
   "cell_type": "code",
   "execution_count": 12,
   "metadata": {},
   "outputs": [
    {
     "name": "stdout",
     "output_type": "stream",
     "text": [
      "KBC is open.\n"
     ]
    }
   ],
   "source": [
    "kbc.describe_resturant()"
   ]
  },
  {
   "cell_type": "code",
   "execution_count": 13,
   "metadata": {},
   "outputs": [],
   "source": [
    "kfc = Resturant(\"KFC\", \"Fast Food\")"
   ]
  },
  {
   "cell_type": "code",
   "execution_count": 14,
   "metadata": {},
   "outputs": [
    {
     "name": "stdout",
     "output_type": "stream",
     "text": [
      "KFC is open.\n"
     ]
    }
   ],
   "source": [
    "kfc.describe_resturant()"
   ]
  },
  {
   "cell_type": "code",
   "execution_count": 18,
   "metadata": {},
   "outputs": [],
   "source": [
    "class user():\n",
    "    def __init__(self, first_name, last_name, height, age):\n",
    "        self.first_name = first_name\n",
    "        self.last_name = last_name\n",
    "        self.height = height\n",
    "        self.age = age\n",
    "        \n",
    "    def describe_user(self):\n",
    "        print(f\"Hey! my name is {self.first_name} {self.last_name}. I am {self.height} and my age is {self.age}\")\n",
    "\n",
    "    def greet_user(self):\n",
    "        print(f\"Hey {self.first_name}\")"
   ]
  },
  {
   "cell_type": "code",
   "execution_count": 19,
   "metadata": {},
   "outputs": [],
   "source": [
    "me = user(\"jack\", \"sparrow\", 5.6, 28)"
   ]
  },
  {
   "cell_type": "code",
   "execution_count": 20,
   "metadata": {},
   "outputs": [
    {
     "name": "stdout",
     "output_type": "stream",
     "text": [
      "Hey! my name is jack sparrow. I am 5.6 and my age is 28\n"
     ]
    }
   ],
   "source": [
    "me.describe_user()"
   ]
  },
  {
   "cell_type": "code",
   "execution_count": 21,
   "metadata": {},
   "outputs": [
    {
     "name": "stdout",
     "output_type": "stream",
     "text": [
      "Hey jack\n"
     ]
    }
   ],
   "source": [
    "me.greet_user()"
   ]
  },
  {
   "cell_type": "code",
   "execution_count": 22,
   "metadata": {},
   "outputs": [],
   "source": [
    "you = user(\"persy\", \"jackson\", 6.8, 29)"
   ]
  },
  {
   "cell_type": "code",
   "execution_count": 23,
   "metadata": {},
   "outputs": [
    {
     "name": "stdout",
     "output_type": "stream",
     "text": [
      "Hey! my name is persy jackson. I am 6.8 and my age is 29\n"
     ]
    }
   ],
   "source": [
    "you.describe_user()"
   ]
  },
  {
   "cell_type": "code",
   "execution_count": 24,
   "metadata": {},
   "outputs": [
    {
     "name": "stdout",
     "output_type": "stream",
     "text": [
      "Hey persy\n"
     ]
    }
   ],
   "source": [
    "you.greet_user()"
   ]
  },
  {
   "cell_type": "code",
   "execution_count": 25,
   "metadata": {},
   "outputs": [],
   "source": [
    "he = user(\"jen\", \"carter\", 9.2, 99)"
   ]
  },
  {
   "cell_type": "code",
   "execution_count": 26,
   "metadata": {},
   "outputs": [
    {
     "name": "stdout",
     "output_type": "stream",
     "text": [
      "Hey! my name is jen carter. I am 9.2 and my age is 99\n"
     ]
    }
   ],
   "source": [
    "he.describe_user()"
   ]
  },
  {
   "cell_type": "code",
   "execution_count": 27,
   "metadata": {},
   "outputs": [
    {
     "name": "stdout",
     "output_type": "stream",
     "text": [
      "Hey jen\n"
     ]
    }
   ],
   "source": [
    "he.greet_user()"
   ]
  },
  {
   "cell_type": "code",
   "execution_count": 31,
   "metadata": {},
   "outputs": [],
   "source": [
    "class Resturant():\n",
    "    def __init__(self, resturant_name, cuisine_type):\n",
    "        self.resturant_name = resturant_name\n",
    "        self.cusine_type = cuisine_type\n",
    "        self.numberServed = 0\n",
    "    def describe_resturant(self):\n",
    "        print(f\"{self.resturant_name} is open.\")\n",
    "        \n",
    "    def set_number_served(self, number):\n",
    "        if number >= self.numberServed:\n",
    "            self.numberServed = number"
   ]
  },
  {
   "cell_type": "code",
   "execution_count": 32,
   "metadata": {},
   "outputs": [],
   "source": [
    "dua = Resturant(\"Dua\", \"Multi\")"
   ]
  },
  {
   "cell_type": "code",
   "execution_count": 33,
   "metadata": {},
   "outputs": [
    {
     "data": {
      "text/plain": [
       "0"
      ]
     },
     "execution_count": 33,
     "metadata": {},
     "output_type": "execute_result"
    }
   ],
   "source": [
    "dua.numberServed"
   ]
  },
  {
   "cell_type": "code",
   "execution_count": 34,
   "metadata": {},
   "outputs": [],
   "source": [
    "dua.set_number_served(5)"
   ]
  },
  {
   "cell_type": "code",
   "execution_count": 35,
   "metadata": {},
   "outputs": [
    {
     "data": {
      "text/plain": [
       "5"
      ]
     },
     "execution_count": 35,
     "metadata": {},
     "output_type": "execute_result"
    }
   ],
   "source": [
    "dua.numberServed"
   ]
  },
  {
   "cell_type": "code",
   "execution_count": 44,
   "metadata": {},
   "outputs": [
    {
     "data": {
      "text/plain": [
       "70"
      ]
     },
     "execution_count": 44,
     "metadata": {},
     "output_type": "execute_result"
    }
   ],
   "source": [
    "myCar.battery.size"
   ]
  },
  {
   "cell_type": "code",
   "execution_count": 45,
   "metadata": {},
   "outputs": [
    {
     "name": "stdout",
     "output_type": "stream",
     "text": [
      "70\n"
     ]
    }
   ],
   "source": [
    "myCar.battery.describe_battery()"
   ]
  },
  {
   "cell_type": "code",
   "execution_count": null,
   "metadata": {},
   "outputs": [],
   "source": []
  }
 ],
 "metadata": {
  "kernelspec": {
   "display_name": "Python 3",
   "language": "python",
   "name": "python3"
  },
  "language_info": {
   "codemirror_mode": {
    "name": "ipython",
    "version": 3
   },
   "file_extension": ".py",
   "mimetype": "text/x-python",
   "name": "python",
   "nbconvert_exporter": "python",
   "pygments_lexer": "ipython3",
   "version": "3.8.5"
  }
 },
 "nbformat": 4,
 "nbformat_minor": 4
}
