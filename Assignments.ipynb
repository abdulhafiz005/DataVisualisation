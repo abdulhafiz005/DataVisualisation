{
 "cells": [
  {
   "cell_type": "markdown",
   "id": "identical-ticket",
   "metadata": {},
   "source": [
    "# Chapter 2"
   ]
  },
  {
   "cell_type": "code",
   "execution_count": 2,
   "id": "improving-daniel",
   "metadata": {},
   "outputs": [
    {
     "name": "stdout",
     "output_type": "stream",
     "text": [
      "what are you doing? you are suppose to be better than this.\n",
      "what makes you think that?\n"
     ]
    }
   ],
   "source": [
    "msg = \"what are you doing? you are suppose to be better than this.\"\n",
    "print(msg)\n",
    "msg = \"what makes you think that?\"\n",
    "print(msg)"
   ]
  },
  {
   "cell_type": "code",
   "execution_count": 3,
   "id": "unique-leeds",
   "metadata": {},
   "outputs": [
    {
     "name": "stdout",
     "output_type": "stream",
     "text": [
      "hola, Jeck would you like to learn some Python today?\n"
     ]
    }
   ],
   "source": [
    "name = \"Jeck\"\n",
    "print(\"hola,\", name, \"would you like to learn some Python today?\")"
   ]
  },
  {
   "cell_type": "code",
   "execution_count": 4,
   "id": "anonymous-uruguay",
   "metadata": {},
   "outputs": [
    {
     "name": "stdout",
     "output_type": "stream",
     "text": [
      "hola, JECK would you like to learn some Python today?\n"
     ]
    }
   ],
   "source": [
    "print(\"hola,\", name.upper(), \"would you like to learn some Python today?\")"
   ]
  },
  {
   "cell_type": "code",
   "execution_count": 5,
   "id": "featured-withdrawal",
   "metadata": {},
   "outputs": [
    {
     "name": "stdout",
     "output_type": "stream",
     "text": [
      "hola, jeck would you like to learn some Python today?\n"
     ]
    }
   ],
   "source": [
    "print(\"hola,\", name.lower(), \"would you like to learn some Python today?\")"
   ]
  },
  {
   "cell_type": "code",
   "execution_count": 6,
   "id": "marked-footage",
   "metadata": {},
   "outputs": [
    {
     "name": "stdout",
     "output_type": "stream",
     "text": [
      "hola, Jeck would you like to learn some Python today?\n"
     ]
    }
   ],
   "source": [
    "print(\"hola,\", name.title(), \"would you like to learn some Python today?\")"
   ]
  },
  {
   "cell_type": "code",
   "execution_count": 8,
   "id": "intensive-attraction",
   "metadata": {},
   "outputs": [
    {
     "name": "stdout",
     "output_type": "stream",
     "text": [
      "Albert Einstein once said, \"A person who never made a mistake never tried anything new.\"\n"
     ]
    }
   ],
   "source": [
    "name = \"Albert Einstein\"\n",
    "quote = \"A person who never made a mistake never tried anything new.\"\n",
    "print(name, \"once said,\", \"\\\"\"+quote+\"\\\"\")"
   ]
  },
  {
   "cell_type": "code",
   "execution_count": 9,
   "id": "color-publisher",
   "metadata": {},
   "outputs": [
    {
     "name": "stdout",
     "output_type": "stream",
     "text": [
      "   jack \t sparrow \n",
      " pirate\n"
     ]
    }
   ],
   "source": [
    "famous_person = \"   jack \\t sparrow \\n pirate\"\n",
    "print(famous_person)"
   ]
  },
  {
   "cell_type": "code",
   "execution_count": 10,
   "id": "interior-turkish",
   "metadata": {},
   "outputs": [
    {
     "name": "stdout",
     "output_type": "stream",
     "text": [
      "jack \t sparrow \n",
      " pirate\n"
     ]
    }
   ],
   "source": [
    "print(famous_person.strip())"
   ]
  },
  {
   "cell_type": "code",
   "execution_count": 11,
   "id": "exotic-georgia",
   "metadata": {},
   "outputs": [
    {
     "name": "stdout",
     "output_type": "stream",
     "text": [
      "jack \t sparrow \n",
      " pirate\n"
     ]
    }
   ],
   "source": [
    "print(famous_person.lstrip())"
   ]
  },
  {
   "cell_type": "code",
   "execution_count": 12,
   "id": "middle-membership",
   "metadata": {},
   "outputs": [
    {
     "name": "stdout",
     "output_type": "stream",
     "text": [
      "   jack \t sparrow \n",
      " pirate\n"
     ]
    }
   ],
   "source": [
    "print(famous_person.rstrip())"
   ]
  },
  {
   "cell_type": "code",
   "execution_count": 13,
   "id": "stupid-marine",
   "metadata": {},
   "outputs": [
    {
     "name": "stdout",
     "output_type": "stream",
     "text": [
      "8\n"
     ]
    }
   ],
   "source": [
    "print(3+5)"
   ]
  },
  {
   "cell_type": "code",
   "execution_count": 14,
   "id": "embedded-blind",
   "metadata": {},
   "outputs": [
    {
     "name": "stdout",
     "output_type": "stream",
     "text": [
      "8\n"
     ]
    }
   ],
   "source": [
    "print(10-2)"
   ]
  },
  {
   "cell_type": "code",
   "execution_count": 17,
   "id": "initial-lodging",
   "metadata": {},
   "outputs": [
    {
     "name": "stdout",
     "output_type": "stream",
     "text": [
      "8\n"
     ]
    }
   ],
   "source": [
    "print(int(16/2))"
   ]
  },
  {
   "cell_type": "code",
   "execution_count": 18,
   "id": "threaded-parent",
   "metadata": {},
   "outputs": [
    {
     "name": "stdout",
     "output_type": "stream",
     "text": [
      "8\n"
     ]
    }
   ],
   "source": [
    "print(2*4)"
   ]
  },
  {
   "cell_type": "code",
   "execution_count": 20,
   "id": "quick-brake",
   "metadata": {},
   "outputs": [
    {
     "name": "stdout",
     "output_type": "stream",
     "text": [
      "My favorite number is: 5\n"
     ]
    }
   ],
   "source": [
    "fav_num = 5\n",
    "print(\"My favorite number is: \"+str(fav_num))"
   ]
  },
  {
   "cell_type": "code",
   "execution_count": 21,
   "id": "caring-prefix",
   "metadata": {},
   "outputs": [
    {
     "name": "stdout",
     "output_type": "stream",
     "text": [
      "Albert Einstein once said, \"A person who never made a mistake never tried anything new.\"\n"
     ]
    }
   ],
   "source": [
    "name = \"Albert Einstein\" #name\n",
    "quote = \"A person who never made a mistake never tried anything new.\" #message\n",
    "print(name, \"once said,\", \"\\\"\"+quote+\"\\\"\") #print"
   ]
  },
  {
   "cell_type": "code",
   "execution_count": 22,
   "id": "internal-privilege",
   "metadata": {},
   "outputs": [
    {
     "name": "stdout",
     "output_type": "stream",
     "text": [
      "The Zen of Python, by Tim Peters\n",
      "\n",
      "Beautiful is better than ugly.\n",
      "Explicit is better than implicit.\n",
      "Simple is better than complex.\n",
      "Complex is better than complicated.\n",
      "Flat is better than nested.\n",
      "Sparse is better than dense.\n",
      "Readability counts.\n",
      "Special cases aren't special enough to break the rules.\n",
      "Although practicality beats purity.\n",
      "Errors should never pass silently.\n",
      "Unless explicitly silenced.\n",
      "In the face of ambiguity, refuse the temptation to guess.\n",
      "There should be one-- and preferably only one --obvious way to do it.\n",
      "Although that way may not be obvious at first unless you're Dutch.\n",
      "Now is better than never.\n",
      "Although never is often better than *right* now.\n",
      "If the implementation is hard to explain, it's a bad idea.\n",
      "If the implementation is easy to explain, it may be a good idea.\n",
      "Namespaces are one honking great idea -- let's do more of those!\n"
     ]
    }
   ],
   "source": [
    "import this"
   ]
  },
  {
   "cell_type": "markdown",
   "id": "worst-documentation",
   "metadata": {},
   "source": [
    "# chapter #3"
   ]
  },
  {
   "cell_type": "code",
   "execution_count": 74,
   "id": "inclusive-pepper",
   "metadata": {},
   "outputs": [
    {
     "name": "stdout",
     "output_type": "stream",
     "text": [
      "jack\n",
      "sparrow\n",
      "persy\n",
      "jackson\n"
     ]
    }
   ],
   "source": [
    "names = [\"jack\", \"sparrow\", \"persy\", \"jackson\"]\n",
    "print(names[0])\n",
    "print(names[1])\n",
    "print(names[2])\n",
    "print(names[3])"
   ]
  },
  {
   "cell_type": "code",
   "execution_count": 75,
   "id": "liked-semiconductor",
   "metadata": {},
   "outputs": [
    {
     "name": "stdout",
     "output_type": "stream",
     "text": [
      "jack pagal hai.\n",
      "sparrow pagal hai.\n",
      "persy pagal hai.\n",
      "jackson pagal hai.\n"
     ]
    }
   ],
   "source": [
    "print(names[0], \"pagal hai.\")\n",
    "print(names[1], \"pagal hai.\")\n",
    "print(names[2], \"pagal hai.\")\n",
    "print(names[3], \"pagal hai.\")"
   ]
  },
  {
   "cell_type": "code",
   "execution_count": 76,
   "id": "committed-magazine",
   "metadata": {},
   "outputs": [
    {
     "name": "stdout",
     "output_type": "stream",
     "text": [
      "I would like to burn a hospital\n",
      "I would like to burn a money\n",
      "I would like to burn a car\n",
      "I would like to burn a house\n"
     ]
    }
   ],
   "source": [
    "things = [\"hospital\", \"money\", \"car\", \"house\"]\n",
    "message = \"I would like to burn a\"\n",
    "print(message, things[0])\n",
    "print(message, things[1])\n",
    "print(message, things[2])\n",
    "print(message, things[3])"
   ]
  },
  {
   "cell_type": "code",
   "execution_count": 77,
   "id": "surprised-soldier",
   "metadata": {},
   "outputs": [],
   "source": [
    "peoples = [\"jack\", \"sparrow\", \"jackson\"]"
   ]
  },
  {
   "cell_type": "code",
   "execution_count": 78,
   "id": "statistical-depression",
   "metadata": {},
   "outputs": [
    {
     "name": "stdout",
     "output_type": "stream",
     "text": [
      "jack i would like to invite you to a dinner tonight.\n",
      "sparrow i would like to invite you to a dinner tonight.\n",
      "jackson i would like to invite you to a dinner tonight.\n"
     ]
    }
   ],
   "source": [
    "print(peoples[0], \"i would like to invite you to a dinner tonight.\")\n",
    "print(peoples[1], \"i would like to invite you to a dinner tonight.\")\n",
    "print(peoples[2], \"i would like to invite you to a dinner tonight.\")"
   ]
  },
  {
   "cell_type": "code",
   "execution_count": 79,
   "id": "threaded-signature",
   "metadata": {},
   "outputs": [
    {
     "name": "stdout",
     "output_type": "stream",
     "text": [
      "sparrow will not make to dinner tonight he will be robbing a bank.\n",
      "jen i would like to invite you to a dinner tonight\n"
     ]
    }
   ],
   "source": [
    "print(peoples[1], \"will not make to dinner tonight he will be robbing a bank.\")\n",
    "peoples.remove(peoples[1])\n",
    "peoples.append(\"jen\")\n",
    "print(peoples[2], \"i would like to invite you to a dinner tonight\")"
   ]
  },
  {
   "cell_type": "code",
   "execution_count": 80,
   "id": "compound-eating",
   "metadata": {},
   "outputs": [],
   "source": [
    "peoples.insert(0, \"lucy\")"
   ]
  },
  {
   "cell_type": "code",
   "execution_count": 81,
   "id": "detected-defendant",
   "metadata": {},
   "outputs": [],
   "source": [
    "peoples.insert(2, \"rose\")"
   ]
  },
  {
   "cell_type": "code",
   "execution_count": 82,
   "id": "handed-insulation",
   "metadata": {},
   "outputs": [],
   "source": [
    "peoples.append(\"linda\")"
   ]
  },
  {
   "cell_type": "code",
   "execution_count": 83,
   "id": "velvet-gospel",
   "metadata": {},
   "outputs": [
    {
     "name": "stdout",
     "output_type": "stream",
     "text": [
      "['lucy', 'jack', 'rose', 'jackson', 'jen', 'linda']\n"
     ]
    }
   ],
   "source": [
    "print(peoples)"
   ]
  },
  {
   "cell_type": "code",
   "execution_count": 84,
   "id": "israeli-europe",
   "metadata": {},
   "outputs": [
    {
     "name": "stdout",
     "output_type": "stream",
     "text": [
      "lucy aja behen\n",
      "jack aja bhai\n",
      "rose aja behen\n",
      "jackson aja bhai\n",
      "jen aja behen\n",
      "linda aja behen\n"
     ]
    }
   ],
   "source": [
    "print(peoples[0], \"aja behen\")\n",
    "print(peoples[1], \"aja bhai\")\n",
    "print(peoples[2], \"aja behen\")\n",
    "print(peoples[3], \"aja bhai\")\n",
    "print(peoples[4], \"aja behen\")\n",
    "print(peoples[5], \"aja behen\")"
   ]
  },
  {
   "cell_type": "code",
   "execution_count": 85,
   "id": "according-strength",
   "metadata": {},
   "outputs": [
    {
     "name": "stdout",
     "output_type": "stream",
     "text": [
      "Sorry bhai table nahi araha hai apna apna ghar pe pka k kha lo sirf 2 jaga hai kisi 2 ko ana hai to ajao wrna bhar mai jao\n"
     ]
    }
   ],
   "source": [
    "print(\"Sorry bhai table nahi araha hai apna apna ghar pe pka k kha lo sirf 2 jaga hai kisi 2 ko ana hai to ajao wrna bhar mai jao\")"
   ]
  },
  {
   "cell_type": "code",
   "execution_count": 86,
   "id": "returning-metallic",
   "metadata": {},
   "outputs": [
    {
     "name": "stdout",
     "output_type": "stream",
     "text": [
      "sorry linda tu meri pupho ki beti to hai nahi jo tere ko bulaun ga mai\n"
     ]
    },
    {
     "data": {
      "text/plain": [
       "'linda'"
      ]
     },
     "execution_count": 86,
     "metadata": {},
     "output_type": "execute_result"
    }
   ],
   "source": [
    "print(\"sorry\", peoples[-1], \"tu meri pupho ki beti to hai nahi jo tere ko bulaun ga mai\")\n",
    "peoples.pop()"
   ]
  },
  {
   "cell_type": "code",
   "execution_count": 87,
   "id": "steady-fiber",
   "metadata": {},
   "outputs": [
    {
     "name": "stdout",
     "output_type": "stream",
     "text": [
      "sorry jen tu meri pupho ki beti to hai nahi jo tere ko bulaun ga mai\n"
     ]
    }
   ],
   "source": [
    "print(\"sorry\", peoples.pop(), \"tu meri pupho ki beti to hai nahi jo tere ko bulaun ga mai\")"
   ]
  },
  {
   "cell_type": "code",
   "execution_count": 88,
   "id": "radio-little",
   "metadata": {},
   "outputs": [
    {
     "name": "stdout",
     "output_type": "stream",
     "text": [
      "sorry jackson tu meri pupho ka beta to hai nahi jo tere ko bulaun ga mai\n"
     ]
    }
   ],
   "source": [
    "print(\"sorry\", peoples.pop(), \"tu meri pupho ka beta to hai nahi jo tere ko bulaun ga mai\")"
   ]
  },
  {
   "cell_type": "code",
   "execution_count": 89,
   "id": "opposed-phrase",
   "metadata": {},
   "outputs": [
    {
     "name": "stdout",
     "output_type": "stream",
     "text": [
      "sorry rose tu meri pupho ki beti to hai nahi jo tere ko bulaun ga mai\n"
     ]
    }
   ],
   "source": [
    "print(\"sorry\", peoples.pop(), \"tu meri pupho ki beti to hai nahi jo tere ko bulaun ga mai\")"
   ]
  },
  {
   "cell_type": "code",
   "execution_count": 92,
   "id": "increased-brisbane",
   "metadata": {},
   "outputs": [],
   "source": [
    "del(peoples[0])"
   ]
  },
  {
   "cell_type": "code",
   "execution_count": 93,
   "id": "polished-chess",
   "metadata": {},
   "outputs": [
    {
     "data": {
      "text/plain": [
       "[]"
      ]
     },
     "execution_count": 93,
     "metadata": {},
     "output_type": "execute_result"
    }
   ],
   "source": [
    "peoples"
   ]
  },
  {
   "cell_type": "code",
   "execution_count": 94,
   "id": "geological-uganda",
   "metadata": {},
   "outputs": [],
   "source": [
    "locations = [\"nagin chorangi\", \"machar caloni\", \"khadda market\", \"bori bazar\", \"lokhan wala\"]"
   ]
  },
  {
   "cell_type": "code",
   "execution_count": 98,
   "id": "regulation-emerald",
   "metadata": {},
   "outputs": [
    {
     "data": {
      "text/plain": [
       "['nagin chorangi',\n",
       " 'machar caloni',\n",
       " 'khadda market',\n",
       " 'bori bazar',\n",
       " 'lokhan wala']"
      ]
     },
     "execution_count": 98,
     "metadata": {},
     "output_type": "execute_result"
    }
   ],
   "source": [
    "locations"
   ]
  },
  {
   "cell_type": "code",
   "execution_count": 99,
   "id": "settled-progress",
   "metadata": {},
   "outputs": [
    {
     "data": {
      "text/plain": [
       "['bori bazar',\n",
       " 'khadda market',\n",
       " 'lokhan wala',\n",
       " 'machar caloni',\n",
       " 'nagin chorangi']"
      ]
     },
     "execution_count": 99,
     "metadata": {},
     "output_type": "execute_result"
    }
   ],
   "source": [
    "sorted(locations)"
   ]
  },
  {
   "cell_type": "code",
   "execution_count": 100,
   "id": "ordered-canada",
   "metadata": {},
   "outputs": [
    {
     "data": {
      "text/plain": [
       "['nagin chorangi',\n",
       " 'machar caloni',\n",
       " 'khadda market',\n",
       " 'bori bazar',\n",
       " 'lokhan wala']"
      ]
     },
     "execution_count": 100,
     "metadata": {},
     "output_type": "execute_result"
    }
   ],
   "source": [
    "locations"
   ]
  },
  {
   "cell_type": "code",
   "execution_count": 101,
   "id": "detected-sheep",
   "metadata": {},
   "outputs": [
    {
     "data": {
      "text/plain": [
       "['nagin chorangi',\n",
       " 'machar caloni',\n",
       " 'lokhan wala',\n",
       " 'khadda market',\n",
       " 'bori bazar']"
      ]
     },
     "execution_count": 101,
     "metadata": {},
     "output_type": "execute_result"
    }
   ],
   "source": [
    "sorted(locations, reverse=True)"
   ]
  },
  {
   "cell_type": "code",
   "execution_count": 102,
   "id": "sorted-alberta",
   "metadata": {},
   "outputs": [
    {
     "data": {
      "text/plain": [
       "['nagin chorangi',\n",
       " 'machar caloni',\n",
       " 'khadda market',\n",
       " 'bori bazar',\n",
       " 'lokhan wala']"
      ]
     },
     "execution_count": 102,
     "metadata": {},
     "output_type": "execute_result"
    }
   ],
   "source": [
    "locations"
   ]
  },
  {
   "cell_type": "code",
   "execution_count": 103,
   "id": "expensive-personality",
   "metadata": {},
   "outputs": [],
   "source": [
    "locations.reverse()"
   ]
  },
  {
   "cell_type": "code",
   "execution_count": 104,
   "id": "expanded-refund",
   "metadata": {},
   "outputs": [
    {
     "data": {
      "text/plain": [
       "['lokhan wala',\n",
       " 'bori bazar',\n",
       " 'khadda market',\n",
       " 'machar caloni',\n",
       " 'nagin chorangi']"
      ]
     },
     "execution_count": 104,
     "metadata": {},
     "output_type": "execute_result"
    }
   ],
   "source": [
    "locations"
   ]
  },
  {
   "cell_type": "code",
   "execution_count": 105,
   "id": "graduate-sterling",
   "metadata": {},
   "outputs": [],
   "source": [
    "locations.reverse()"
   ]
  },
  {
   "cell_type": "code",
   "execution_count": 106,
   "id": "significant-boutique",
   "metadata": {},
   "outputs": [
    {
     "data": {
      "text/plain": [
       "['nagin chorangi',\n",
       " 'machar caloni',\n",
       " 'khadda market',\n",
       " 'bori bazar',\n",
       " 'lokhan wala']"
      ]
     },
     "execution_count": 106,
     "metadata": {},
     "output_type": "execute_result"
    }
   ],
   "source": [
    "locations"
   ]
  },
  {
   "cell_type": "code",
   "execution_count": 107,
   "id": "tropical-tunisia",
   "metadata": {},
   "outputs": [],
   "source": [
    "locations.sort()"
   ]
  },
  {
   "cell_type": "code",
   "execution_count": 108,
   "id": "helpful-domestic",
   "metadata": {},
   "outputs": [
    {
     "data": {
      "text/plain": [
       "['bori bazar',\n",
       " 'khadda market',\n",
       " 'lokhan wala',\n",
       " 'machar caloni',\n",
       " 'nagin chorangi']"
      ]
     },
     "execution_count": 108,
     "metadata": {},
     "output_type": "execute_result"
    }
   ],
   "source": [
    "locations"
   ]
  },
  {
   "cell_type": "code",
   "execution_count": 111,
   "id": "variable-closure",
   "metadata": {},
   "outputs": [],
   "source": [
    "locations.sort(reverse=True)"
   ]
  },
  {
   "cell_type": "code",
   "execution_count": 112,
   "id": "tutorial-hopkins",
   "metadata": {},
   "outputs": [
    {
     "data": {
      "text/plain": [
       "['nagin chorangi',\n",
       " 'machar caloni',\n",
       " 'lokhan wala',\n",
       " 'khadda market',\n",
       " 'bori bazar']"
      ]
     },
     "execution_count": 112,
     "metadata": {},
     "output_type": "execute_result"
    }
   ],
   "source": [
    "locations"
   ]
  },
  {
   "cell_type": "code",
   "execution_count": 113,
   "id": "opening-termination",
   "metadata": {},
   "outputs": [
    {
     "name": "stdout",
     "output_type": "stream",
     "text": [
      "total places i would like to visit in future is:  5\n"
     ]
    }
   ],
   "source": [
    "print(\"total places i would like to visit in future is: \", len(locations))"
   ]
  },
  {
   "cell_type": "code",
   "execution_count": null,
   "id": "parental-terry",
   "metadata": {},
   "outputs": [],
   "source": []
  }
 ],
 "metadata": {
  "kernelspec": {
   "display_name": "Python 3",
   "language": "python",
   "name": "python3"
  },
  "language_info": {
   "codemirror_mode": {
    "name": "ipython",
    "version": 3
   },
   "file_extension": ".py",
   "mimetype": "text/x-python",
   "name": "python",
   "nbconvert_exporter": "python",
   "pygments_lexer": "ipython3",
   "version": "3.8.5"
  }
 },
 "nbformat": 4,
 "nbformat_minor": 5
}
