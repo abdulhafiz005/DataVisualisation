{
 "cells": [
  {
   "cell_type": "code",
   "execution_count": 10,
   "metadata": {},
   "outputs": [],
   "source": [
    "class Resturant():\n",
    "    def __init__(self, resturant_name, cuisine_type):\n",
    "        self.resturant_name = resturant_name\n",
    "        self.cusine_type = cuisine_type\n",
    "        self.numberServed = 0\n",
    "    def describe_resturant(self):\n",
    "        print(f\"{self.resturant_name} is open.\")\n",
    "        \n",
    "    def set_number_served(self, number):\n",
    "        if number >= self.numberServed:\n",
    "            self.numberServed = number"
   ]
  },
  {
   "cell_type": "code",
   "execution_count": 11,
   "metadata": {},
   "outputs": [],
   "source": [
    "class IceCreamStand(Resturant):\n",
    "    def __init__(self, resturant_name, cuisine_type, flavores):\n",
    "        super().__init__(resturant_name, cuisine_type)\n",
    "        self.flavores = flavores\n",
    "    def display_flavores(self):\n",
    "        print(f\"Available flavores are: {self.flavores}\")"
   ]
  },
  {
   "cell_type": "code",
   "execution_count": 12,
   "metadata": {},
   "outputs": [],
   "source": [
    "flavores = [\"mango\", \"banana\", \"choclate\", \"stroberry\"]\n",
    "stand = IceCreamStand(\"The taste you never forget\", \"chill\", flavores)"
   ]
  },
  {
   "cell_type": "code",
   "execution_count": 13,
   "metadata": {},
   "outputs": [
    {
     "name": "stdout",
     "output_type": "stream",
     "text": [
      "Available flavores are: ['mango', 'banana', 'choclate', 'stroberry']\n"
     ]
    }
   ],
   "source": [
    "stand.display_flavores()"
   ]
  },
  {
   "cell_type": "code",
   "execution_count": 14,
   "metadata": {},
   "outputs": [
    {
     "name": "stdout",
     "output_type": "stream",
     "text": [
      "The taste you never forget is open.\n"
     ]
    }
   ],
   "source": [
    "stand.describe_resturant()"
   ]
  },
  {
   "cell_type": "code",
   "execution_count": 15,
   "metadata": {},
   "outputs": [],
   "source": [
    "class user():\n",
    "    def __init__(self, first_name, last_name, height, age):\n",
    "        self.first_name = first_name\n",
    "        self.last_name = last_name\n",
    "        self.height = height\n",
    "        self.age = age\n",
    "        \n",
    "    def describe_user(self):\n",
    "        print(f\"Hey! my name is {self.first_name} {self.last_name}. I am {self.height} and my age is {self.age}\")\n",
    "\n",
    "    def greet_user(self):\n",
    "        print(f\"Hey {self.first_name}\")"
   ]
  },
  {
   "cell_type": "code",
   "execution_count": 17,
   "metadata": {},
   "outputs": [],
   "source": [
    "class Admin(user):\n",
    "    def __init__(self, priviliges, first_name, last_name, height, age):\n",
    "        super().__init__(first_name, last_name, height, age)\n",
    "        self.priviliges = priviliges\n",
    "    def display_priviliges(self):\n",
    "        print(f\"Available priviliges for {self.first_name} is: {self.priviliges}\")"
   ]
  },
  {
   "cell_type": "code",
   "execution_count": 18,
   "metadata": {},
   "outputs": [],
   "source": [
    "priviliges = [\"can add post\", \"can delete post\", \"can ban user\"]\n",
    "admin = Admin(priviliges, \"jack\", \"sparrow\", 15.5, 40)"
   ]
  },
  {
   "cell_type": "code",
   "execution_count": 19,
   "metadata": {},
   "outputs": [
    {
     "name": "stdout",
     "output_type": "stream",
     "text": [
      "Available priviliges for jack is: ['can add post', 'can delete post', 'can ban user']\n"
     ]
    }
   ],
   "source": [
    "admin.display_priviliges()"
   ]
  },
  {
   "cell_type": "code",
   "execution_count": 20,
   "metadata": {},
   "outputs": [
    {
     "name": "stdout",
     "output_type": "stream",
     "text": [
      "Hey jack\n"
     ]
    }
   ],
   "source": [
    "admin.greet_user()"
   ]
  },
  {
   "cell_type": "code",
   "execution_count": 27,
   "metadata": {},
   "outputs": [],
   "source": [
    "class Priviliges():\n",
    "    def show_priviliges(self):\n",
    "        self.priviliges = ['can add post', 'can delete post', 'can ban user']\n",
    "        return self.priviliges"
   ]
  },
  {
   "cell_type": "code",
   "execution_count": 28,
   "metadata": {},
   "outputs": [],
   "source": [
    "class Admin(user):\n",
    "    def __init__(self, first_name, last_name, height, age):\n",
    "        super().__init__(first_name, last_name, height, age)\n",
    "        self.priviliges = Priviliges()"
   ]
  },
  {
   "cell_type": "code",
   "execution_count": 29,
   "metadata": {},
   "outputs": [],
   "source": [
    "newadmin = Admin(\"persy\", \"jackson\", 6.5, 40)"
   ]
  },
  {
   "cell_type": "code",
   "execution_count": 30,
   "metadata": {},
   "outputs": [
    {
     "data": {
      "text/plain": [
       "['can add post', 'can delete post', 'can ban user']"
      ]
     },
     "execution_count": 30,
     "metadata": {},
     "output_type": "execute_result"
    }
   ],
   "source": [
    "newadmin.priviliges.show_priviliges()"
   ]
  },
  {
   "cell_type": "code",
   "execution_count": 31,
   "metadata": {},
   "outputs": [],
   "source": [
    "class Car():\n",
    "    def fill_gas_tank(self):\n",
    "        print(\"Gas has been field.\")"
   ]
  },
  {
   "cell_type": "code",
   "execution_count": 32,
   "metadata": {},
   "outputs": [],
   "source": [
    "class Battery():\n",
    "    def __init__(self, size):\n",
    "        self.size = size\n",
    "        \n",
    "    def describe_battery(self):\n",
    "        print(self.size)"
   ]
  },
  {
   "cell_type": "code",
   "execution_count": 36,
   "metadata": {},
   "outputs": [],
   "source": [
    "class ElectricCar(Car):\n",
    "    def __init__(self):\n",
    "        self.battery = Battery(size = 70)\n",
    "    def fill_gas_tank(self):\n",
    "        print(\"Electric car does not need gas tank\")\n",
    "    def upgrade_battery(self):\n",
    "        if self.battery.size != 85:\n",
    "            self.battery.size = 85"
   ]
  },
  {
   "cell_type": "code",
   "execution_count": 37,
   "metadata": {},
   "outputs": [],
   "source": [
    "latestCar = ElectricCar()"
   ]
  },
  {
   "cell_type": "code",
   "execution_count": 38,
   "metadata": {},
   "outputs": [
    {
     "name": "stdout",
     "output_type": "stream",
     "text": [
      "70\n"
     ]
    }
   ],
   "source": [
    "latestCar.battery.describe_battery()"
   ]
  },
  {
   "cell_type": "code",
   "execution_count": 39,
   "metadata": {},
   "outputs": [],
   "source": [
    "latestCar.upgrade_battery()"
   ]
  },
  {
   "cell_type": "code",
   "execution_count": 40,
   "metadata": {},
   "outputs": [
    {
     "name": "stdout",
     "output_type": "stream",
     "text": [
      "85\n"
     ]
    }
   ],
   "source": [
    "latestCar.battery.describe_battery()"
   ]
  },
  {
   "cell_type": "code",
   "execution_count": null,
   "metadata": {},
   "outputs": [],
   "source": []
  }
 ],
 "metadata": {
  "kernelspec": {
   "display_name": "Python 3",
   "language": "python",
   "name": "python3"
  },
  "language_info": {
   "codemirror_mode": {
    "name": "ipython",
    "version": 3
   },
   "file_extension": ".py",
   "mimetype": "text/x-python",
   "name": "python",
   "nbconvert_exporter": "python",
   "pygments_lexer": "ipython3",
   "version": "3.8.5"
  }
 },
 "nbformat": 4,
 "nbformat_minor": 4
}
