{
 "cells": [
  {
   "cell_type": "markdown",
   "metadata": {},
   "source": [
    "# Error and Exception Handling"
   ]
  },
  {
   "cell_type": "code",
   "execution_count": 1,
   "metadata": {},
   "outputs": [
    {
     "ename": "ZeroDivisionError",
     "evalue": "division by zero",
     "output_type": "error",
     "traceback": [
      "\u001b[1;31m---------------------------------------------------------------------------\u001b[0m",
      "\u001b[1;31mZeroDivisionError\u001b[0m                         Traceback (most recent call last)",
      "\u001b[1;32m<ipython-input-1-0106664d39e8>\u001b[0m in \u001b[0;36m<module>\u001b[1;34m\u001b[0m\n\u001b[1;32m----> 1\u001b[1;33m \u001b[1;36m5\u001b[0m\u001b[1;33m/\u001b[0m\u001b[1;36m0\u001b[0m\u001b[1;33m\u001b[0m\u001b[1;33m\u001b[0m\u001b[0m\n\u001b[0m",
      "\u001b[1;31mZeroDivisionError\u001b[0m: division by zero"
     ]
    }
   ],
   "source": [
    "5/0"
   ]
  },
  {
   "cell_type": "code",
   "execution_count": 4,
   "metadata": {},
   "outputs": [
    {
     "name": "stdout",
     "output_type": "stream",
     "text": [
      "Enter a number: 5.32\n",
      "Exception is caught ValueError\n"
     ]
    }
   ],
   "source": [
    "try:\n",
    "    a = int(input(\"Enter a number: \"))\n",
    "    b = int(input(\"Enter a number: \"))\n",
    "    c = a/b\n",
    "    print(c)\n",
    "except ZeroDivisionError:\n",
    "    print(\"Exception is caught ZeroDivisionError\")\n",
    "except ValueError:\n",
    "    print(\"Exception is caught ValueError\")"
   ]
  },
  {
   "cell_type": "code",
   "execution_count": 5,
   "metadata": {},
   "outputs": [
    {
     "data": {
      "text/plain": [
       "5"
      ]
     },
     "execution_count": 5,
     "metadata": {},
     "output_type": "execute_result"
    }
   ],
   "source": [
    "int(5.32)"
   ]
  },
  {
   "cell_type": "code",
   "execution_count": 8,
   "metadata": {},
   "outputs": [
    {
     "name": "stdout",
     "output_type": "stream",
     "text": [
      "Enter a number: 7\n",
      "Enter a number: 9\n",
      "Yeah! I have handled that error\n",
      "Hello World\n"
     ]
    }
   ],
   "source": [
    "try:\n",
    "    a = int(input(\"Enter a number: \"))\n",
    "    b = int(input(\"Enter a number: \"))\n",
    "    d = []\n",
    "    c = a/b\n",
    "    print(d[2])\n",
    "    print(c)\n",
    "except ZeroDivisionError:\n",
    "    print(\"Exception is caught ZeroDivisionError\")\n",
    "except ValueError:\n",
    "    print(\"Exception is caught ValueError\")\n",
    "except IndexError:\n",
    "    print('Yeah! I have handled that error')\n",
    "else:\n",
    "    print(\"nahi i\")\n",
    "    \n",
    "print('Hello World')"
   ]
  },
  {
   "cell_type": "code",
   "execution_count": 9,
   "metadata": {},
   "outputs": [
    {
     "name": "stdout",
     "output_type": "stream",
     "text": [
      "Enter a number: 5\n",
      "Enter a number: 5\n",
      "Unknown exception: list index out of range\n",
      "Hello World\n"
     ]
    }
   ],
   "source": [
    "try:\n",
    "    a = int(input(\"Enter a number: \"))\n",
    "    b = int(input(\"Enter a number: \"))\n",
    "    d = []\n",
    "    c = a/b\n",
    "    print(d[2])\n",
    "    print(c)\n",
    "except ZeroDivisionError:\n",
    "    print(\"Exception is caught ZeroDivisionError\")\n",
    "except ValueError:\n",
    "    print(\"Exception is caught ValueError\")\n",
    "# except IndexError:\n",
    "#     print('Yeah! I have handled that error')\n",
    "except Exception as e:\n",
    "    print(f'Unknown exception: {str(e)}')\n",
    "else:\n",
    "    print(\"nahi i\")\n",
    "    \n",
    "print('Hello World')"
   ]
  },
  {
   "cell_type": "code",
   "execution_count": 10,
   "metadata": {},
   "outputs": [
    {
     "name": "stdout",
     "output_type": "stream",
     "text": [
      "Enter a number: 6\n",
      "Enter a number: 6\n",
      "Unknown exception: list index out of range\n",
      "Hello World\n"
     ]
    }
   ],
   "source": [
    "try:\n",
    "    a = int(input(\"Enter a number: \"))\n",
    "    b = int(input(\"Enter a number: \"))\n",
    "    d = []\n",
    "    c = a/b\n",
    "    print(d[2])\n",
    "    print(c)\n",
    "except ZeroDivisionError:\n",
    "    print(\"Exception is caught ZeroDivisionError\")\n",
    "except ValueError:\n",
    "    print(\"Exception is caught ValueError\")\n",
    "# except IndexError:\n",
    "#     print('Yeah! I have handled that error')\n",
    "except Exception as e:\n",
    "    print(f'Unknown exception: {str(e)}')\n",
    "else:\n",
    "    print(\"nahi i\")\n",
    "finally:    \n",
    "    print('Hello World')"
   ]
  },
  {
   "cell_type": "code",
   "execution_count": 13,
   "metadata": {},
   "outputs": [
    {
     "name": "stdout",
     "output_type": "stream",
     "text": [
      "Enter student age: 90\n"
     ]
    },
    {
     "ename": "Exception",
     "evalue": "Age can not be greater then 80 or less then 16.",
     "output_type": "error",
     "traceback": [
      "\u001b[1;31m---------------------------------------------------------------------------\u001b[0m",
      "\u001b[1;31mException\u001b[0m                                 Traceback (most recent call last)",
      "\u001b[1;32m<ipython-input-13-64634048424c>\u001b[0m in \u001b[0;36m<module>\u001b[1;34m\u001b[0m\n\u001b[0;32m      1\u001b[0m \u001b[0mage\u001b[0m \u001b[1;33m=\u001b[0m \u001b[0mint\u001b[0m\u001b[1;33m(\u001b[0m\u001b[0minput\u001b[0m\u001b[1;33m(\u001b[0m\u001b[1;34m\"Enter student age: \"\u001b[0m\u001b[1;33m)\u001b[0m\u001b[1;33m)\u001b[0m\u001b[1;33m\u001b[0m\u001b[1;33m\u001b[0m\u001b[0m\n\u001b[0;32m      2\u001b[0m \u001b[1;32mif\u001b[0m \u001b[0mage\u001b[0m \u001b[1;33m>\u001b[0m \u001b[1;36m80\u001b[0m \u001b[1;32mor\u001b[0m \u001b[0mage\u001b[0m \u001b[1;33m<\u001b[0m \u001b[1;36m16\u001b[0m\u001b[1;33m:\u001b[0m\u001b[1;33m\u001b[0m\u001b[1;33m\u001b[0m\u001b[0m\n\u001b[1;32m----> 3\u001b[1;33m     \u001b[1;32mraise\u001b[0m \u001b[0mException\u001b[0m\u001b[1;33m(\u001b[0m\u001b[1;34m\"Age can not be greater then 80 or less then 16.\"\u001b[0m\u001b[1;33m)\u001b[0m\u001b[1;33m\u001b[0m\u001b[1;33m\u001b[0m\u001b[0m\n\u001b[0m",
      "\u001b[1;31mException\u001b[0m: Age can not be greater then 80 or less then 16."
     ]
    }
   ],
   "source": [
    "age = int(input(\"Enter student age: \"))\n",
    "if age > 80 or age < 16:\n",
    "    raise Exception(\"Age can not be greater then 80 or less then 16.\")"
   ]
  },
  {
   "cell_type": "code",
   "execution_count": 14,
   "metadata": {},
   "outputs": [],
   "source": [
    "class studentAgeException(Exception):\n",
    "    pass"
   ]
  },
  {
   "cell_type": "code",
   "execution_count": 17,
   "metadata": {},
   "outputs": [],
   "source": [
    "class Student():\n",
    "    def __init__(self, name, age):\n",
    "        if age > 80 or age < 16:\n",
    "            raise studentAgeException(\"Age can not be greater then 80 or less then 16.\")\n",
    "        self.name = name\n",
    "        self.age = age"
   ]
  },
  {
   "cell_type": "code",
   "execution_count": 19,
   "metadata": {},
   "outputs": [
    {
     "name": "stdout",
     "output_type": "stream",
     "text": [
      "Enter student age: 90\n",
      "Enter student age: \n",
      "Exception: invalid literal for int() with base 10: ''\n"
     ]
    }
   ],
   "source": [
    "age = int(input(\"Enter student age: \"))\n",
    "try:\n",
    "    abc = Student(\"jack\", age)\n",
    "except Exception as e:\n",
    "    print(\"Exception: \"+str(e))\n",
    "else:\n",
    "    print(abc.age)"
   ]
  },
  {
   "cell_type": "code",
   "execution_count": null,
   "metadata": {},
   "outputs": [],
   "source": []
  }
 ],
 "metadata": {
  "kernelspec": {
   "display_name": "Python 3",
   "language": "python",
   "name": "python3"
  },
  "language_info": {
   "codemirror_mode": {
    "name": "ipython",
    "version": 3
   },
   "file_extension": ".py",
   "mimetype": "text/x-python",
   "name": "python",
   "nbconvert_exporter": "python",
   "pygments_lexer": "ipython3",
   "version": "3.8.5"
  }
 },
 "nbformat": 4,
 "nbformat_minor": 4
}
