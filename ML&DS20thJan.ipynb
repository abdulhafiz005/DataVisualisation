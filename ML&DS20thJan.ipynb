{
 "cells": [
  {
   "cell_type": "markdown",
   "metadata": {},
   "source": [
    "# Return:"
   ]
  },
  {
   "cell_type": "code",
   "execution_count": 4,
   "metadata": {},
   "outputs": [],
   "source": [
    "def fullName():\n",
    "    fname = input(\"Your first name: \")\n",
    "    lname = input(\"Your last name: \")\n",
    "    return f\"{fname} {lname}\", 100, 400, [3, 4, 5]"
   ]
  },
  {
   "cell_type": "code",
   "execution_count": 7,
   "metadata": {},
   "outputs": [
    {
     "name": "stdout",
     "output_type": "stream",
     "text": [
      "Your first name: jack\n",
      "Your last name: sparrow\n"
     ]
    }
   ],
   "source": [
    "myFullName, rollNumber, age, marks = fullName()"
   ]
  },
  {
   "cell_type": "code",
   "execution_count": 8,
   "metadata": {},
   "outputs": [
    {
     "data": {
      "text/plain": [
       "'jack sparrow'"
      ]
     },
     "execution_count": 8,
     "metadata": {},
     "output_type": "execute_result"
    }
   ],
   "source": [
    "myFullName"
   ]
  },
  {
   "cell_type": "code",
   "execution_count": 9,
   "metadata": {},
   "outputs": [
    {
     "data": {
      "text/plain": [
       "100"
      ]
     },
     "execution_count": 9,
     "metadata": {},
     "output_type": "execute_result"
    }
   ],
   "source": [
    "rollNumber"
   ]
  },
  {
   "cell_type": "code",
   "execution_count": 10,
   "metadata": {},
   "outputs": [
    {
     "data": {
      "text/plain": [
       "400"
      ]
     },
     "execution_count": 10,
     "metadata": {},
     "output_type": "execute_result"
    }
   ],
   "source": [
    "age"
   ]
  },
  {
   "cell_type": "code",
   "execution_count": 11,
   "metadata": {},
   "outputs": [
    {
     "data": {
      "text/plain": [
       "[3, 4, 5]"
      ]
     },
     "execution_count": 11,
     "metadata": {},
     "output_type": "execute_result"
    }
   ],
   "source": [
    "marks"
   ]
  },
  {
   "cell_type": "code",
   "execution_count": 12,
   "metadata": {},
   "outputs": [],
   "source": [
    "def saleryCalculate(salary):\n",
    "    \"\"\"This function takes one integer argument to calculate current gross salery\"\"\"\n",
    "    incomeTax = .1\n",
    "    return "
   ]
  },
  {
   "cell_type": "code",
   "execution_count": 13,
   "metadata": {},
   "outputs": [
    {
     "ename": "SyntaxError",
     "evalue": "invalid syntax (<ipython-input-13-ac2db0557825>, line 1)",
     "output_type": "error",
     "traceback": [
      "\u001b[1;36m  File \u001b[1;32m\"<ipython-input-13-ac2db0557825>\"\u001b[1;36m, line \u001b[1;32m1\u001b[0m\n\u001b[1;33m    saleryCalculate(salery=50000) keyword argument\u001b[0m\n\u001b[1;37m                                  ^\u001b[0m\n\u001b[1;31mSyntaxError\u001b[0m\u001b[1;31m:\u001b[0m invalid syntax\n"
     ]
    }
   ],
   "source": [
    "salaryCalculate(salary=50000) #keyword argument"
   ]
  },
  {
   "cell_type": "code",
   "execution_count": 14,
   "metadata": {},
   "outputs": [],
   "source": [
    "salaryCalculate(50000) #positional argument"
   ]
  },
  {
   "cell_type": "code",
   "execution_count": 15,
   "metadata": {},
   "outputs": [],
   "source": [
    "def add(n1=0, n2=0, n3=0, n4=0): #setting default value\n",
    "    return n1+n2+n3+n4"
   ]
  },
  {
   "cell_type": "code",
   "execution_count": 16,
   "metadata": {},
   "outputs": [
    {
     "data": {
      "text/plain": [
       "3"
      ]
     },
     "execution_count": 16,
     "metadata": {},
     "output_type": "execute_result"
    }
   ],
   "source": [
    "add(1,2)"
   ]
  },
  {
   "cell_type": "code",
   "execution_count": 40,
   "metadata": {},
   "outputs": [],
   "source": [
    "def salaryCalculate(salary, tax, commission):\n",
    "    \"\"\"This function takes one integer argument to calculate current gross salary\"\"\" #docString\n",
    "    return (salary/100)*(100-tax)+(salary*commission), tax, commission"
   ]
  },
  {
   "cell_type": "code",
   "execution_count": 54,
   "metadata": {},
   "outputs": [],
   "source": [
    "def calculatetax(salary):\n",
    "    if salary < 50000:\n",
    "        tax = 0\n",
    "    elif salary >= 50000 and salary <= 100000:\n",
    "        tax = 10\n",
    "    else:\n",
    "        tax = 20\n",
    "    return tax"
   ]
  },
  {
   "cell_type": "code",
   "execution_count": 55,
   "metadata": {},
   "outputs": [],
   "source": [
    "def calculateCommission(sales):\n",
    "    if sales < 50:\n",
    "        commission = 0\n",
    "    elif sales >= 50 and sales <= 100:\n",
    "        commission = 10\n",
    "    else:\n",
    "        commission = 20\n",
    "    return commission"
   ]
  },
  {
   "cell_type": "code",
   "execution_count": 43,
   "metadata": {},
   "outputs": [],
   "source": [
    "def returnGrossSalary(salary, sales):\n",
    "    return salaryCalculate(salary, calculatetax(salary), calculateCommission(sales))"
   ]
  },
  {
   "cell_type": "code",
   "execution_count": 53,
   "metadata": {},
   "outputs": [
    {
     "name": "stdout",
     "output_type": "stream",
     "text": [
      "Enter your current salary: 50000\n",
      "Enter your last month sales: 49\n",
      "Your gross salary is: 40000.0.\n",
      "Your commission was: 0%.\n",
      "Your deducted tax was: 20%.\n"
     ]
    }
   ],
   "source": [
    "salary = input(\"Enter your current salary: \")\n",
    "sales = input(\"Enter your last month sales: \")\n",
    "grossSalary, tax, commission = returnGrossSalary(int(salary), int(sales))\n",
    "print(f\"Your gross salary is: {grossSalary}.\\nYour commission was: {commission}%.\\nYour deducted tax was: {tax}%.\")"
   ]
  },
  {
   "cell_type": "code",
   "execution_count": 56,
   "metadata": {},
   "outputs": [
    {
     "data": {
      "text/plain": [
       "1"
      ]
     },
     "execution_count": 56,
     "metadata": {},
     "output_type": "execute_result"
    }
   ],
   "source": [
    "0 or 1"
   ]
  },
  {
   "cell_type": "code",
   "execution_count": null,
   "metadata": {},
   "outputs": [],
   "source": []
  }
 ],
 "metadata": {
  "kernelspec": {
   "display_name": "Python 3",
   "language": "python",
   "name": "python3"
  },
  "language_info": {
   "codemirror_mode": {
    "name": "ipython",
    "version": 3
   },
   "file_extension": ".py",
   "mimetype": "text/x-python",
   "name": "python",
   "nbconvert_exporter": "python",
   "pygments_lexer": "ipython3",
   "version": "3.8.5"
  }
 },
 "nbformat": 4,
 "nbformat_minor": 4
}
